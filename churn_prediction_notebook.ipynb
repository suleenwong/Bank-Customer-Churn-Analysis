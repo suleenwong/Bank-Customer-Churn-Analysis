{
 "cells": [
  {
   "cell_type": "markdown",
   "metadata": {},
   "source": [
    "# Predicting Bank Customer Churn using Machine Learning"
   ]
  },
  {
   "cell_type": "markdown",
   "metadata": {},
   "source": [
    "## Introduction\n",
    "\n",
    "Churn is defined as a measure of how many customers stop using a product or leave a service.\n",
    "\n",
    "In this study, I aim to analyze the dataset \"bank_customer_churn_dataset.csv\" to:\n",
    "\n",
    "- explore and visualize the factors which lead to bank customer churn\n",
    "- train a machine learning model to predict if a customer churns or not\n",
    "- provide actionable insights to the bank to reduce customer churn"
   ]
  },
  {
   "cell_type": "markdown",
   "metadata": {},
   "source": [
    "## Importing packages"
   ]
  },
  {
   "cell_type": "code",
   "execution_count": 2,
   "metadata": {},
   "outputs": [],
   "source": [
    "import pandas as pd\n",
    "import numpy as np\n",
    "import matplotlib.pyplot as plt\n",
    "import seaborn as sns\n",
    "\n",
    "from sklearn.preprocessing import StandardScaler\n",
    "from sklearn.model_selection import train_test_split\n",
    "from sklearn.model_selection import GridSearchCV, RandomizedSearchCV\n",
    "from sklearn.linear_model import LogisticRegression\n",
    "from sklearn.neighbors import KNeighborsClassifier\n",
    "from xgboost import XGBClassifier\n",
    "from sklearn.metrics import accuracy_score, precision_score, recall_score, f1_score, confusion_matrix, classification_report\n",
    "import itertools\n",
    "\n",
    "import warnings\n",
    "warnings.filterwarnings('ignore')\n",
    "\n",
    "RSEED = 42"
   ]
  },
  {
   "cell_type": "markdown",
   "metadata": {},
   "source": [
    "## Loading the dataset"
   ]
  },
  {
   "cell_type": "code",
   "execution_count": 3,
   "metadata": {},
   "outputs": [],
   "source": [
    "df = pd.read_csv('bank_customer_churn_dataset.csv')"
   ]
  },
  {
   "cell_type": "markdown",
   "metadata": {},
   "source": [
    "## Data exploration"
   ]
  },
  {
   "cell_type": "markdown",
   "metadata": {},
   "source": [
    "Examining the first 5 rows of the dataset:"
   ]
  },
  {
   "cell_type": "code",
   "execution_count": 4,
   "metadata": {},
   "outputs": [
    {
     "data": {
      "text/html": [
       "<div>\n",
       "<style scoped>\n",
       "    .dataframe tbody tr th:only-of-type {\n",
       "        vertical-align: middle;\n",
       "    }\n",
       "\n",
       "    .dataframe tbody tr th {\n",
       "        vertical-align: top;\n",
       "    }\n",
       "\n",
       "    .dataframe thead th {\n",
       "        text-align: right;\n",
       "    }\n",
       "</style>\n",
       "<table border=\"1\" class=\"dataframe\">\n",
       "  <thead>\n",
       "    <tr style=\"text-align: right;\">\n",
       "      <th></th>\n",
       "      <th>customer_id</th>\n",
       "      <th>credit_score</th>\n",
       "      <th>country</th>\n",
       "      <th>gender</th>\n",
       "      <th>age</th>\n",
       "      <th>tenure</th>\n",
       "      <th>balance</th>\n",
       "      <th>products_number</th>\n",
       "      <th>credit_card</th>\n",
       "      <th>active_member</th>\n",
       "      <th>estimated_salary</th>\n",
       "      <th>churn</th>\n",
       "    </tr>\n",
       "  </thead>\n",
       "  <tbody>\n",
       "    <tr>\n",
       "      <th>0</th>\n",
       "      <td>15634602</td>\n",
       "      <td>619</td>\n",
       "      <td>France</td>\n",
       "      <td>Female</td>\n",
       "      <td>42</td>\n",
       "      <td>2</td>\n",
       "      <td>0.00</td>\n",
       "      <td>1</td>\n",
       "      <td>1</td>\n",
       "      <td>1</td>\n",
       "      <td>101348.88</td>\n",
       "      <td>1</td>\n",
       "    </tr>\n",
       "    <tr>\n",
       "      <th>1</th>\n",
       "      <td>15647311</td>\n",
       "      <td>608</td>\n",
       "      <td>Spain</td>\n",
       "      <td>Female</td>\n",
       "      <td>41</td>\n",
       "      <td>1</td>\n",
       "      <td>83807.86</td>\n",
       "      <td>1</td>\n",
       "      <td>0</td>\n",
       "      <td>1</td>\n",
       "      <td>112542.58</td>\n",
       "      <td>0</td>\n",
       "    </tr>\n",
       "    <tr>\n",
       "      <th>2</th>\n",
       "      <td>15619304</td>\n",
       "      <td>502</td>\n",
       "      <td>France</td>\n",
       "      <td>Female</td>\n",
       "      <td>42</td>\n",
       "      <td>8</td>\n",
       "      <td>159660.80</td>\n",
       "      <td>3</td>\n",
       "      <td>1</td>\n",
       "      <td>0</td>\n",
       "      <td>113931.57</td>\n",
       "      <td>1</td>\n",
       "    </tr>\n",
       "    <tr>\n",
       "      <th>3</th>\n",
       "      <td>15701354</td>\n",
       "      <td>699</td>\n",
       "      <td>France</td>\n",
       "      <td>Female</td>\n",
       "      <td>39</td>\n",
       "      <td>1</td>\n",
       "      <td>0.00</td>\n",
       "      <td>2</td>\n",
       "      <td>0</td>\n",
       "      <td>0</td>\n",
       "      <td>93826.63</td>\n",
       "      <td>0</td>\n",
       "    </tr>\n",
       "    <tr>\n",
       "      <th>4</th>\n",
       "      <td>15737888</td>\n",
       "      <td>850</td>\n",
       "      <td>Spain</td>\n",
       "      <td>Female</td>\n",
       "      <td>43</td>\n",
       "      <td>2</td>\n",
       "      <td>125510.82</td>\n",
       "      <td>1</td>\n",
       "      <td>1</td>\n",
       "      <td>1</td>\n",
       "      <td>79084.10</td>\n",
       "      <td>0</td>\n",
       "    </tr>\n",
       "  </tbody>\n",
       "</table>\n",
       "</div>"
      ],
      "text/plain": [
       "   customer_id  credit_score country  gender  age  tenure    balance  \\\n",
       "0     15634602           619  France  Female   42       2       0.00   \n",
       "1     15647311           608   Spain  Female   41       1   83807.86   \n",
       "2     15619304           502  France  Female   42       8  159660.80   \n",
       "3     15701354           699  France  Female   39       1       0.00   \n",
       "4     15737888           850   Spain  Female   43       2  125510.82   \n",
       "\n",
       "   products_number  credit_card  active_member  estimated_salary  churn  \n",
       "0                1            1              1         101348.88      1  \n",
       "1                1            0              1         112542.58      0  \n",
       "2                3            1              0         113931.57      1  \n",
       "3                2            0              0          93826.63      0  \n",
       "4                1            1              1          79084.10      0  "
      ]
     },
     "execution_count": 4,
     "metadata": {},
     "output_type": "execute_result"
    }
   ],
   "source": [
    "df.head()"
   ]
  },
  {
   "cell_type": "markdown",
   "metadata": {},
   "source": [
    "Examining the shape of the dataset shows that the dataset consists of 10000 rows and 12 columns:"
   ]
  },
  {
   "cell_type": "code",
   "execution_count": 5,
   "metadata": {},
   "outputs": [
    {
     "data": {
      "text/plain": [
       "(10000, 12)"
      ]
     },
     "execution_count": 5,
     "metadata": {},
     "output_type": "execute_result"
    }
   ],
   "source": [
    "df.shape"
   ]
  },
  {
   "cell_type": "markdown",
   "metadata": {},
   "source": [
    "Examining the names of the columns and the datatype:"
   ]
  },
  {
   "cell_type": "code",
   "execution_count": 6,
   "metadata": {},
   "outputs": [
    {
     "name": "stdout",
     "output_type": "stream",
     "text": [
      "<class 'pandas.core.frame.DataFrame'>\n",
      "RangeIndex: 10000 entries, 0 to 9999\n",
      "Data columns (total 12 columns):\n",
      " #   Column            Non-Null Count  Dtype  \n",
      "---  ------            --------------  -----  \n",
      " 0   customer_id       10000 non-null  int64  \n",
      " 1   credit_score      10000 non-null  int64  \n",
      " 2   country           10000 non-null  object \n",
      " 3   gender            10000 non-null  object \n",
      " 4   age               10000 non-null  int64  \n",
      " 5   tenure            10000 non-null  int64  \n",
      " 6   balance           10000 non-null  float64\n",
      " 7   products_number   10000 non-null  int64  \n",
      " 8   credit_card       10000 non-null  int64  \n",
      " 9   active_member     10000 non-null  int64  \n",
      " 10  estimated_salary  10000 non-null  float64\n",
      " 11  churn             10000 non-null  int64  \n",
      "dtypes: float64(2), int64(8), object(2)\n",
      "memory usage: 937.6+ KB\n"
     ]
    }
   ],
   "source": [
    "df.info()"
   ]
  },
  {
   "cell_type": "markdown",
   "metadata": {},
   "source": [
    "Examining the summary statistics of the dataset:"
   ]
  },
  {
   "cell_type": "code",
   "execution_count": 7,
   "metadata": {},
   "outputs": [
    {
     "data": {
      "text/html": [
       "<div>\n",
       "<style scoped>\n",
       "    .dataframe tbody tr th:only-of-type {\n",
       "        vertical-align: middle;\n",
       "    }\n",
       "\n",
       "    .dataframe tbody tr th {\n",
       "        vertical-align: top;\n",
       "    }\n",
       "\n",
       "    .dataframe thead th {\n",
       "        text-align: right;\n",
       "    }\n",
       "</style>\n",
       "<table border=\"1\" class=\"dataframe\">\n",
       "  <thead>\n",
       "    <tr style=\"text-align: right;\">\n",
       "      <th></th>\n",
       "      <th>customer_id</th>\n",
       "      <th>credit_score</th>\n",
       "      <th>age</th>\n",
       "      <th>tenure</th>\n",
       "      <th>balance</th>\n",
       "      <th>products_number</th>\n",
       "      <th>credit_card</th>\n",
       "      <th>active_member</th>\n",
       "      <th>estimated_salary</th>\n",
       "      <th>churn</th>\n",
       "    </tr>\n",
       "  </thead>\n",
       "  <tbody>\n",
       "    <tr>\n",
       "      <th>count</th>\n",
       "      <td>1.000000e+04</td>\n",
       "      <td>10000.000000</td>\n",
       "      <td>10000.000000</td>\n",
       "      <td>10000.000000</td>\n",
       "      <td>10000.000000</td>\n",
       "      <td>10000.000000</td>\n",
       "      <td>10000.00000</td>\n",
       "      <td>10000.000000</td>\n",
       "      <td>10000.000000</td>\n",
       "      <td>10000.000000</td>\n",
       "    </tr>\n",
       "    <tr>\n",
       "      <th>mean</th>\n",
       "      <td>1.569094e+07</td>\n",
       "      <td>650.528800</td>\n",
       "      <td>38.921800</td>\n",
       "      <td>5.012800</td>\n",
       "      <td>76485.889288</td>\n",
       "      <td>1.530200</td>\n",
       "      <td>0.70550</td>\n",
       "      <td>0.515100</td>\n",
       "      <td>100090.239881</td>\n",
       "      <td>0.203700</td>\n",
       "    </tr>\n",
       "    <tr>\n",
       "      <th>std</th>\n",
       "      <td>7.193619e+04</td>\n",
       "      <td>96.653299</td>\n",
       "      <td>10.487806</td>\n",
       "      <td>2.892174</td>\n",
       "      <td>62397.405202</td>\n",
       "      <td>0.581654</td>\n",
       "      <td>0.45584</td>\n",
       "      <td>0.499797</td>\n",
       "      <td>57510.492818</td>\n",
       "      <td>0.402769</td>\n",
       "    </tr>\n",
       "    <tr>\n",
       "      <th>min</th>\n",
       "      <td>1.556570e+07</td>\n",
       "      <td>350.000000</td>\n",
       "      <td>18.000000</td>\n",
       "      <td>0.000000</td>\n",
       "      <td>0.000000</td>\n",
       "      <td>1.000000</td>\n",
       "      <td>0.00000</td>\n",
       "      <td>0.000000</td>\n",
       "      <td>11.580000</td>\n",
       "      <td>0.000000</td>\n",
       "    </tr>\n",
       "    <tr>\n",
       "      <th>25%</th>\n",
       "      <td>1.562853e+07</td>\n",
       "      <td>584.000000</td>\n",
       "      <td>32.000000</td>\n",
       "      <td>3.000000</td>\n",
       "      <td>0.000000</td>\n",
       "      <td>1.000000</td>\n",
       "      <td>0.00000</td>\n",
       "      <td>0.000000</td>\n",
       "      <td>51002.110000</td>\n",
       "      <td>0.000000</td>\n",
       "    </tr>\n",
       "    <tr>\n",
       "      <th>50%</th>\n",
       "      <td>1.569074e+07</td>\n",
       "      <td>652.000000</td>\n",
       "      <td>37.000000</td>\n",
       "      <td>5.000000</td>\n",
       "      <td>97198.540000</td>\n",
       "      <td>1.000000</td>\n",
       "      <td>1.00000</td>\n",
       "      <td>1.000000</td>\n",
       "      <td>100193.915000</td>\n",
       "      <td>0.000000</td>\n",
       "    </tr>\n",
       "    <tr>\n",
       "      <th>75%</th>\n",
       "      <td>1.575323e+07</td>\n",
       "      <td>718.000000</td>\n",
       "      <td>44.000000</td>\n",
       "      <td>7.000000</td>\n",
       "      <td>127644.240000</td>\n",
       "      <td>2.000000</td>\n",
       "      <td>1.00000</td>\n",
       "      <td>1.000000</td>\n",
       "      <td>149388.247500</td>\n",
       "      <td>0.000000</td>\n",
       "    </tr>\n",
       "    <tr>\n",
       "      <th>max</th>\n",
       "      <td>1.581569e+07</td>\n",
       "      <td>850.000000</td>\n",
       "      <td>92.000000</td>\n",
       "      <td>10.000000</td>\n",
       "      <td>250898.090000</td>\n",
       "      <td>4.000000</td>\n",
       "      <td>1.00000</td>\n",
       "      <td>1.000000</td>\n",
       "      <td>199992.480000</td>\n",
       "      <td>1.000000</td>\n",
       "    </tr>\n",
       "  </tbody>\n",
       "</table>\n",
       "</div>"
      ],
      "text/plain": [
       "        customer_id  credit_score           age        tenure        balance  \\\n",
       "count  1.000000e+04  10000.000000  10000.000000  10000.000000   10000.000000   \n",
       "mean   1.569094e+07    650.528800     38.921800      5.012800   76485.889288   \n",
       "std    7.193619e+04     96.653299     10.487806      2.892174   62397.405202   \n",
       "min    1.556570e+07    350.000000     18.000000      0.000000       0.000000   \n",
       "25%    1.562853e+07    584.000000     32.000000      3.000000       0.000000   \n",
       "50%    1.569074e+07    652.000000     37.000000      5.000000   97198.540000   \n",
       "75%    1.575323e+07    718.000000     44.000000      7.000000  127644.240000   \n",
       "max    1.581569e+07    850.000000     92.000000     10.000000  250898.090000   \n",
       "\n",
       "       products_number  credit_card  active_member  estimated_salary  \\\n",
       "count     10000.000000  10000.00000   10000.000000      10000.000000   \n",
       "mean          1.530200      0.70550       0.515100     100090.239881   \n",
       "std           0.581654      0.45584       0.499797      57510.492818   \n",
       "min           1.000000      0.00000       0.000000         11.580000   \n",
       "25%           1.000000      0.00000       0.000000      51002.110000   \n",
       "50%           1.000000      1.00000       1.000000     100193.915000   \n",
       "75%           2.000000      1.00000       1.000000     149388.247500   \n",
       "max           4.000000      1.00000       1.000000     199992.480000   \n",
       "\n",
       "              churn  \n",
       "count  10000.000000  \n",
       "mean       0.203700  \n",
       "std        0.402769  \n",
       "min        0.000000  \n",
       "25%        0.000000  \n",
       "50%        0.000000  \n",
       "75%        0.000000  \n",
       "max        1.000000  "
      ]
     },
     "execution_count": 7,
     "metadata": {},
     "output_type": "execute_result"
    }
   ],
   "source": [
    "df.describe()"
   ]
  },
  {
   "cell_type": "markdown",
   "metadata": {},
   "source": [
    "There are no null or missing values in the dataset, as shown below."
   ]
  },
  {
   "cell_type": "code",
   "execution_count": 8,
   "metadata": {},
   "outputs": [
    {
     "data": {
      "text/plain": [
       "customer_id         0\n",
       "credit_score        0\n",
       "country             0\n",
       "gender              0\n",
       "age                 0\n",
       "tenure              0\n",
       "balance             0\n",
       "products_number     0\n",
       "credit_card         0\n",
       "active_member       0\n",
       "estimated_salary    0\n",
       "churn               0\n",
       "dtype: int64"
      ]
     },
     "execution_count": 8,
     "metadata": {},
     "output_type": "execute_result"
    }
   ],
   "source": [
    "df.isna().sum()"
   ]
  },
  {
   "cell_type": "markdown",
   "metadata": {},
   "source": [
    "Now I examine the number of unique values for each column in the dataset. Columns with a small number of unique values with labelled data can be converted to the categorical datatype."
   ]
  },
  {
   "cell_type": "code",
   "execution_count": 9,
   "metadata": {},
   "outputs": [
    {
     "data": {
      "text/plain": [
       "customer_id         10000\n",
       "credit_score          460\n",
       "country                 3\n",
       "gender                  2\n",
       "age                    70\n",
       "tenure                 11\n",
       "balance              6382\n",
       "products_number         4\n",
       "credit_card             2\n",
       "active_member           2\n",
       "estimated_salary     9999\n",
       "churn                   2\n",
       "dtype: int64"
      ]
     },
     "execution_count": 9,
     "metadata": {},
     "output_type": "execute_result"
    }
   ],
   "source": [
    "df.nunique()"
   ]
  },
  {
   "cell_type": "markdown",
   "metadata": {},
   "source": [
    "'customer_id' should be a unique identifier for each row therefore there are 10000 unique values, as expected.\n",
    "\n",
    "'churn' is defined as the target variable, since we want to predict if a customer is churned or not.\n",
    "\n",
    "Based on the summary statistics and the number of unique values of each column, the numerical variables are:\n",
    "- credit_score\n",
    "- age\n",
    "- balance\n",
    "- estimated_salary\n",
    "- tenure\n",
    "- products_number\n",
    "\n",
    "and the categorical variables are:\n",
    "- country\n",
    "- gender\n",
    "- credit_card\n",
    "- active_member\n",
    "- churn\n"
   ]
  },
  {
   "cell_type": "markdown",
   "metadata": {},
   "source": [
    "## Data visualization"
   ]
  },
  {
   "cell_type": "code",
   "execution_count": 76,
   "metadata": {},
   "outputs": [],
   "source": [
    "# Group churn by country\n",
    "group_country = (df\n",
    "        .groupby('country')['churn']\n",
    "        .value_counts(normalize=True)\n",
    "        .mul(100)\n",
    "        .rename('percent')\n",
    "        .reset_index())\n",
    "\n",
    "# Group churn by gender\n",
    "group_gender = (df\n",
    "        .groupby('gender')['churn']\n",
    "        .value_counts(normalize=True)\n",
    "        .mul(100)\n",
    "        .rename('percent')\n",
    "        .reset_index())    \n",
    "\n",
    "# Group churn by credit_card\n",
    "group_credit_card = (df\n",
    "        .groupby('credit_card')['churn']\n",
    "        .value_counts(normalize=True)\n",
    "        .mul(100)\n",
    "        .rename('percent')\n",
    "        .reset_index())     \n",
    "\n",
    "# Group churn by active_member\n",
    "group_active_member = (df\n",
    "        .groupby('active_member')['churn']\n",
    "        .value_counts(normalize=True)\n",
    "        .mul(100)\n",
    "        .rename('percent')\n",
    "        .reset_index())    \n",
    "\n",
    "# Group churn by products_number\n",
    "group_products_number = (df\n",
    "        .groupby('products_number')['churn']\n",
    "        .value_counts(normalize=True)\n",
    "        .mul(100)\n",
    "        .rename('percent')\n",
    "        .reset_index())                        \n",
    "\n",
    "# Group churn by tenure\n",
    "group_tenure = (df\n",
    "        .groupby('tenure')['churn']\n",
    "        .value_counts(normalize=True)\n",
    "        .mul(100)\n",
    "        .rename('percent')\n",
    "        .reset_index())     \n",
    "\n",
    "\n",
    "def plot_subplots(ax, xlabel):\n",
    "        fontsize=14\n",
    "        legend_labels, _= ax.get_legend_handles_labels()\n",
    "        ax.legend(legend_labels, ['Retained','Churned'], fontsize=fontsize)\n",
    "        plt.xticks(fontsize=fontsize-1)\n",
    "        plt.yticks(fontsize=fontsize-1)\n",
    "        plt.xlabel(xlabel, fontsize=fontsize)\n",
    "        plt.ylabel('Percent of customers [%]', fontsize=fontsize)\n",
    "        # ax = fig.add_subplot(211)\n",
    "        # ax2 = fig.add_subplot(212, sharex=ax)\n",
    "        # ax.set_title(title1)\n",
    "        # ax2.set_title(title2)\n",
    "        # ax.set_ylim(1e-3, None)\n",
    "        # ax2.set_ylim(1e-3, None)\n",
    "        # ax.plot(x1, y1, **kwargs)\n",
    "        # ax2.plot(x2, y2, **kwargs)\n"
   ]
  },
  {
   "cell_type": "code",
   "execution_count": 78,
   "metadata": {},
   "outputs": [
    {
     "data": {
      "image/png": "[encoded data removed]",
      "text/plain": [
       "<Figure size 1200x1600 with 6 Axes>"
      ]
     },
     "metadata": {},
     "output_type": "display_data"
    }
   ],
   "source": [
    "fontsize=14\n",
    "sns.set_style(\"whitegrid\")\n",
    "fig, ax = plt.subplots(3, 2, figsize=(12,16))\n",
    "plt.subplot(3, 2, 1)\n",
    "ax=sns.barplot(x='country', y='percent', hue='churn', data=group_country, ci=None, palette=[\"limegreen\", \"orangered\"])\n",
    "plot_subplots(ax, 'Country')\n",
    "# legend_labels, _= ax.get_legend_handles_labels()\n",
    "# ax.legend(legend_labels, ['Retained','Churned'], fontsize=fontsize)\n",
    "# plt.xticks(fontsize=fontsize-1)\n",
    "# plt.yticks(fontsize=fontsize-1)\n",
    "# plt.xlabel('Country', fontsize=fontsize)\n",
    "# plt.ylabel('Percent of customers [%]', fontsize=fontsize)\n",
    "\n",
    "# plt.subplot(3, 2, 2)\n",
    "# sns.barplot(x='gender', y='percent', hue = 'churn', data = group_gender, palette=[\"limegreen\", \"orangered\"])\n",
    "# plt.legend([],[], frameon=False)\n",
    "# plt.xticks(fontsize=fontsize-1)\n",
    "# plt.yticks(fontsize=fontsize-1)\n",
    "# plt.xlabel('Gender', fontsize=fontsize)\n",
    "# plt.ylabel('Percent of customers [%]', fontsize=fontsize)\n",
    "\n",
    "# plt.subplot(3, 2, 3)\n",
    "# df_plot = df.groupby('credit_card')['churn'].value_counts(normalize=True).mul(100).rename('Percent').reset_index()\n",
    "# sns.barplot(x='credit_card', y='percent', hue = 'churn', data = group_credit_card, palette=[\"#00b4af\", \"#0f1c3f\"])\n",
    "# plt.legend([],[], frameon=False)\n",
    "# plt.xticks(fontsize=fontsize-1)\n",
    "# plt.yticks(fontsize=fontsize-1)\n",
    "# plt.xticks([0, 1], [\"No\",\"Yes\"])\n",
    "# plt.xlabel('Credit card?', fontsize=fontsize)\n",
    "# plt.ylabel('Percent of customers [%]', fontsize=fontsize)\n",
    "\n",
    "# plt.subplot(3, 2, 4)\n",
    "# #df_plot = df.groupby('active_member')['churn'].value_counts(normalize=True).mul(100).rename('Percent').reset_index()\n",
    "# sns.barplot(x='active_member', y='percent', hue = 'churn', data = group_active_member, palette=[\"#00b4af\", \"#0f1c3f\"])\n",
    "# plt.legend([],[], frameon=False)\n",
    "# plt.xticks([0, 1], [\"No\",\"Yes\"], fontsize=fontsize)\n",
    "# plt.yticks(fontsize=fontsize-1)\n",
    "# plt.xlabel('Active member?', fontsize=fontsize)\n",
    "# plt.ylabel('Percent of customers [%]', fontsize=fontsize)\n",
    "\n",
    "# plt.subplot(3, 2, 5)\n",
    "# df_plot = df.groupby('products_number')['churn'].value_counts(normalize=True).mul(100).rename('Percent').reset_index()\n",
    "# sns.barplot(x='products_number', y='percent', hue = 'churn', data = group_products_number, palette=[\"#00b4af\", \"#0f1c3f\"])\n",
    "# plt.legend([],[], frameon=False)\n",
    "# plt.xticks(fontsize=fontsize-1)\n",
    "# plt.yticks(fontsize=fontsize-1)\n",
    "# plt.xlabel('Number of products', fontsize=fontsize)\n",
    "# plt.ylabel('Percent of customers [%]', fontsize=fontsize)\n",
    "\n",
    "# plt.subplot(3, 2, 6)\n",
    "# df_plot = df.groupby('tenure')['churn'].value_counts(normalize=True).mul(100).rename('Percent').reset_index()\n",
    "# sns.barplot(x='tenure', y='percent', hue = 'churn', data = group_tenure, palette=[\"#00b4af\", \"#0f1c3f\"])\n",
    "# plt.legend([],[], frameon=False)\n",
    "# plt.xticks(fontsize=fontsize-1)\n",
    "# plt.yticks(fontsize=fontsize-1)\n",
    "# plt.xlabel('Tenure in years', fontsize=fontsize)\n",
    "# plt.ylabel('Percent of customers [%]', fontsize=fontsize)\n",
    "\n",
    "# plt.subplots_adjust(hspace=0.25, wspace=0.25)\n",
    "# plt.show()"
   ]
  },
  {
   "cell_type": "markdown",
   "metadata": {},
   "source": [
    "## Modelling bank customer churn"
   ]
  },
  {
   "cell_type": "markdown",
   "metadata": {},
   "source": [
    "We want to predict whether a customer churns or not, which is a binary outcome. Therefore this is a classification problem in machine learning.\n",
    "\n",
    "A important point to take into consideration here is that we are dealing with an imbalanced dataset. If we use a baseline model where all customers are assumed to not have churned, this will still result in a model with 79.6% accuracy."
   ]
  },
  {
   "cell_type": "code",
   "execution_count": 24,
   "metadata": {},
   "outputs": [],
   "source": [
    "# Convert some columns to integer or categorical\n",
    "df = df.assign(\n",
    "    tenure=lambda x: x['tenure'].astype('int'),\n",
    "    products_number=lambda x: x['products_number'].astype('int'),\n",
    "    country=lambda x: x['country'].astype('category'),\n",
    "    gender=lambda x: x['gender'].astype('category'),\n",
    "    credit_card=lambda x: x['credit_card'].astype('category'),\n",
    "    active_member=lambda x: x['active_member'].astype('category')\n",
    "    )"
   ]
  },
  {
   "cell_type": "code",
   "execution_count": 19,
   "metadata": {},
   "outputs": [],
   "source": [
    "# Defining target and feature variables\n",
    "y = df['churn']\n",
    "X = df.drop(['customer_id','churn'], axis=1)"
   ]
  }
 ],
 "metadata": {
  "kernelspec": {
   "display_name": "Python 3.9.8 ('.venv': venv)",
   "language": "python",
   "name": "python3"
  },
  "language_info": {
   "codemirror_mode": {
    "name": "ipython",
    "version": 3
   },
   "file_extension": ".py",
   "mimetype": "text/x-python",
   "name": "python",
   "nbconvert_exporter": "python",
   "pygments_lexer": "ipython3",
   "version": "3.9.8"
  },
  "orig_nbformat": 4,
  "vscode": {
   "interpreter": {
    "hash": "4fbeebd0eaee0b0758ac84ddc2fde62dee4b299e6cd939e14d8fbaf27c0097a1"
   }
  }
 },
 "nbformat": 4,
 "nbformat_minor": 2
}
